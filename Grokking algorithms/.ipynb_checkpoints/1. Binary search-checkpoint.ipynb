{
 "cells": [
  {
   "cell_type": "code",
   "execution_count": null,
   "metadata": {},
   "outputs": [],
   "source": [
    "\"\"\"\n",
    " - binary search assumes that we exclude half elements on each iteration\n",
    " - we guess the value, starting from the middle \n",
    " - 100 elements -> 50 -> 25 -> 13 -> 7 -> 4 -> 2 -> 1 (7 iters)\n",
    " - In general case: 1) simple search - n iters; 2) binary search - log_2(n), \n",
    " where n - number of elements we search through.\n",
    " - Recall: log_2(n) - how many times we need to multiply 2 to get n. It's inverse operation to power. \n",
    " - Example: to go through 1024 items, we need to perform no more than 10 iters of binary search. \n",
    " \n",
    "\"\"\""
   ]
  },
  {
   "cell_type": "markdown",
   "metadata": {},
   "source": [
    "> Note, *binary search* works for sorted array only. \n",
    "It recieves the sorted array and the *value* as an input. Then it outputs the *position* of value if this exists in array."
   ]
  },
  {
   "cell_type": "code",
   "execution_count": 75,
   "metadata": {},
   "outputs": [],
   "source": [
    "import numpy as np\n",
    "import math\n",
    "# create a sorted array\n",
    "sorted_array = np.arange(128)\n",
    "item = 32"
   ]
  },
  {
   "cell_type": "code",
   "execution_count": 76,
   "metadata": {},
   "outputs": [],
   "source": [
    "\"\"\"\n",
    " - first, we check the low and high element of array (first and last)\n",
    "\"\"\"\n",
    "\n",
    "low = 0\n",
    "high = len(sorted_array)-1\n",
    "# mid: if (low+high) is odd, we round this to the lower number\n",
    "mid = int((low + high)/2)\n",
    "# guess: return the position of guess value\n",
    "guess = sorted_array[mid]\n",
    "# if our guess is smaller (we underestimating), then we update low boundary\n",
    "# other wise, we update high value\n",
    "if guess < item:\n",
    "    low = mid + 1\n",
    "else: \n",
    "    high = mid - 1 "
   ]
  },
  {
   "cell_type": "code",
   "execution_count": 77,
   "metadata": {},
   "outputs": [],
   "source": [
    "\"\"\"\n",
    " - wrap everything in function \n",
    "\"\"\"\n",
    "\n",
    "def binary_search(sorted_array, item):\n",
    "    low = 0\n",
    "    high = len(sorted_array) - 1\n",
    "    while low <=high:\n",
    "        mid = int((low + high)/2)\n",
    "        guess = sorted_array[mid]\n",
    "        if guess == item:\n",
    "            return guess\n",
    "        if guess < item: \n",
    "            low = mid + 1\n",
    "        else: \n",
    "            high = mid - 1\n",
    "    # in case the element is not in list, we return None\n",
    "    return None"
   ]
  },
  {
   "cell_type": "code",
   "execution_count": 78,
   "metadata": {},
   "outputs": [
    {
     "name": "stdout",
     "output_type": "stream",
     "text": [
      "Position of element is: 32\n",
      "Max number of iterations needed: 7.0\n"
     ]
    }
   ],
   "source": [
    "position = binary_search(sorted_array, item)\n",
    "print('Position of element is:', position)\n",
    "print('Max number of iterations needed:', math.log(len(sorted_array), 2))"
   ]
  },
  {
   "cell_type": "code",
   "execution_count": null,
   "metadata": {},
   "outputs": [],
   "source": []
  },
  {
   "cell_type": "code",
   "execution_count": null,
   "metadata": {},
   "outputs": [],
   "source": []
  }
 ],
 "metadata": {
  "kernelspec": {
   "display_name": "Python 3",
   "language": "python",
   "name": "python3"
  },
  "language_info": {
   "codemirror_mode": {
    "name": "ipython",
    "version": 3
   },
   "file_extension": ".py",
   "mimetype": "text/x-python",
   "name": "python",
   "nbconvert_exporter": "python",
   "pygments_lexer": "ipython3",
   "version": "3.6.8"
  }
 },
 "nbformat": 4,
 "nbformat_minor": 2
}
