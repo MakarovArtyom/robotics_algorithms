{
 "cells": [
  {
   "cell_type": "code",
   "execution_count": 5,
   "metadata": {},
   "outputs": [],
   "source": [
    "\"\"\"\n",
    " - selection sort algorithm is performed with O(nˆ2) complexity\n",
    " - let's sort the array in ascending order \n",
    " - first, we will write a function to search the least element in array\n",
    "\"\"\"\n",
    "import numpy as np\n",
    "\n",
    "def findSmallest(array):\n",
    "    # initialize first element as the least element\n",
    "    smallest = array[0]\n",
    "    smallest_index = 0\n",
    "    # iterate from 2nd index since first is reserved for smallest element\n",
    "    for i in range(1, len(array)):\n",
    "        if array[i] < smallest:\n",
    "            smallest = array[i]\n",
    "            smallest_index = i\n",
    "    return smallest_index"
   ]
  },
  {
   "cell_type": "code",
   "execution_count": 6,
   "metadata": {},
   "outputs": [],
   "source": [
    "\"\"\"\n",
    " - next, define the function for selection sort\n",
    "\"\"\"\n",
    "\n",
    "def selectionSort(array):\n",
    "    newArray = []\n",
    "    # newArray will have the same length as the original one\n",
    "    for i in range(len(array)):\n",
    "        # find the list element in array\n",
    "        smallest = findSmallest(array)\n",
    "        # array.pop(smallest) - retruns the element of \"smallest value\" index \n",
    "        newArray.append(array.pop(smallest))\n",
    "    return newArray"
   ]
  },
  {
   "cell_type": "code",
   "execution_count": 25,
   "metadata": {},
   "outputs": [
    {
     "name": "stdout",
     "output_type": "stream",
     "text": [
      "[0, 1, 1, 2, 4, 5, 10, 11]\n"
     ]
    }
   ],
   "source": [
    "print(selectionSort(a))"
   ]
  },
  {
   "cell_type": "code",
   "execution_count": null,
   "metadata": {},
   "outputs": [],
   "source": []
  }
 ],
 "metadata": {
  "kernelspec": {
   "display_name": "Python 3",
   "language": "python",
   "name": "python3"
  },
  "language_info": {
   "codemirror_mode": {
    "name": "ipython",
    "version": 3
   },
   "file_extension": ".py",
   "mimetype": "text/x-python",
   "name": "python",
   "nbconvert_exporter": "python",
   "pygments_lexer": "ipython3",
   "version": "3.6.8"
  }
 },
 "nbformat": 4,
 "nbformat_minor": 2
}
