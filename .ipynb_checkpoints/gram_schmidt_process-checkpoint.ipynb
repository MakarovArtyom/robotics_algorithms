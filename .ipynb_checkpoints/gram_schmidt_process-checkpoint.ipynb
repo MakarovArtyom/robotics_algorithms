{
 "cells": [
  {
   "cell_type": "code",
   "execution_count": 1,
   "metadata": {},
   "outputs": [],
   "source": [
    "import numpy as np \n",
    "from numpy import linalg as lg\n",
    "import sympy as sm"
   ]
  },
  {
   "cell_type": "code",
   "execution_count": 2,
   "metadata": {},
   "outputs": [],
   "source": [
    "A = np.array([\n",
    "        [2, 0, 0, 0],\n",
    "        [0, 3, 0, 0],\n",
    "        [0, 0, 4, 4],\n",
    "        [0, 0, 5, 5]\n",
    "    ], dtype=np.float_)"
   ]
  },
  {
   "cell_type": "code",
   "execution_count": 3,
   "metadata": {},
   "outputs": [
    {
     "data": {
      "text/plain": [
       "0.0"
      ]
     },
     "execution_count": 3,
     "metadata": {},
     "output_type": "execute_result"
    }
   ],
   "source": [
    "lg.det(A)"
   ]
  },
  {
   "cell_type": "code",
   "execution_count": 4,
   "metadata": {},
   "outputs": [
    {
     "name": "stdout",
     "output_type": "stream",
     "text": [
      "Reduced row echelon form of A is:\n"
     ]
    },
    {
     "data": {
      "text/latex": [
       "$\\displaystyle \\left[\\begin{matrix}1 & 0 & 0 & 0\\\\0.0 & 1 & 0 & 0\\\\0.0 & 0.0 & 1 & 1.0\\\\0 & 0 & 0 & 0\\end{matrix}\\right]$"
      ],
      "text/plain": [
       "Matrix([\n",
       "[  1,   0, 0,   0],\n",
       "[0.0,   1, 0,   0],\n",
       "[0.0, 0.0, 1, 1.0],\n",
       "[  0,   0, 0,   0]])"
      ]
     },
     "execution_count": 4,
     "metadata": {},
     "output_type": "execute_result"
    }
   ],
   "source": [
    "rf_0, inds_0 = sm.Matrix(A).rref()\n",
    "print('Reduced row echelon form of A is:')\n",
    "rf_0"
   ]
  },
  {
   "cell_type": "code",
   "execution_count": 5,
   "metadata": {},
   "outputs": [
    {
     "ename": "SyntaxError",
     "evalue": "invalid syntax (<ipython-input-5-09f8e10754eb>, line 6)",
     "output_type": "error",
     "traceback": [
      "\u001b[0;36m  File \u001b[0;32m\"<ipython-input-5-09f8e10754eb>\"\u001b[0;36m, line \u001b[0;32m6\u001b[0m\n\u001b[0;31m    for\u001b[0m\n\u001b[0m        ^\u001b[0m\n\u001b[0;31mSyntaxError\u001b[0m\u001b[0;31m:\u001b[0m invalid syntax\n"
     ]
    }
   ],
   "source": [
    "class GramSchmidt():\n",
    "    def isSingular(matrix):\n",
    "        rows = matrix.shape[0]\n",
    "        cols = matrix.shape[1]\n",
    "        fisrt_col = 0\n",
    "        for "
   ]
  },
  {
   "cell_type": "markdown",
   "metadata": {},
   "source": [
    "### Gauss-Jordan elimination"
   ]
  },
  {
   "cell_type": "raw",
   "metadata": {},
   "source": [
    "h := 1 /* Initialization of the pivot row */\n",
    "k := 1 /* Initialization of the pivot column */\n",
    "\n",
    "while h ≤ m and k ≤ n\n",
    "    /* Find the k-th pivot: */\n",
    "    i_max := argmax (i = h ... m, abs(A[i, k]))\n",
    "    if A[i_max, k] = 0\n",
    "        /* No pivot in this column, pass to next column */\n",
    "        k := k+1\n",
    "    else\n",
    "         swap rows(h, i_max)\n",
    "         /* Do for all rows below pivot: */\n",
    "         for i = h + 1 ... m:\n",
    "                f := A[i, k] / A[h, k]\n",
    "                /* Fill with zeros the lower part of pivot column: */\n",
    "                A[i, k] := 0\n",
    "                /* Do for all remaining elements in current row: */\n",
    "                for j = k + 1 ... n:\n",
    "                     A[i, j] := A[i, j] - A[h, j] * f\n",
    "         /* Increase pivot row and column */\n",
    "         h := h + 1\n",
    "         k := k + 1"
   ]
  },
  {
   "cell_type": "code",
   "execution_count": 63,
   "metadata": {},
   "outputs": [],
   "source": [
    "A = np.array([\n",
    "        [2, 0, 0, 0],\n",
    "        [0, 3, 0, 0],\n",
    "        [0, 0, 4, 4],\n",
    "        [0, 0, 5, 5],\n",
    "    ], dtype=np.float_)"
   ]
  },
  {
   "cell_type": "code",
   "execution_count": 10,
   "metadata": {},
   "outputs": [],
   "source": [
    "nrows = A.shape[0]\n",
    "ncols = A.shape[1]"
   ]
  },
  {
   "cell_type": "code",
   "execution_count": 26,
   "metadata": {},
   "outputs": [
    {
     "name": "stdout",
     "output_type": "stream",
     "text": [
      "[0, 0, 0, 0]\n"
     ]
    }
   ],
   "source": [
    "k = 0\n",
    "list_max=[]\n",
    "for i in range(nrows):\n",
    "    i_max = np.argmax(np.absolute(A[k]))\n",
    "    list_max.append(i_max)\n",
    "print(list_max)"
   ]
  },
  {
   "cell_type": "code",
   "execution_count": 62,
   "metadata": {},
   "outputs": [
    {
     "data": {
      "text/plain": [
       "2"
      ]
     },
     "execution_count": 62,
     "metadata": {},
     "output_type": "execute_result"
    }
   ],
   "source": [
    "np.argmax(np.absolute(A[:,0]))"
   ]
  },
  {
   "cell_type": "code",
   "execution_count": 68,
   "metadata": {},
   "outputs": [
    {
     "name": "stdout",
     "output_type": "stream",
     "text": [
      "3 0 0\n"
     ]
    }
   ],
   "source": [
    "h = 1\n",
    "i_max = 2\n",
    "\n",
    "h_prev = h\n",
    "h = i_max\n",
    "i_max = h_prev\n",
    "\n",
    "print(h, i_max, h_prev)"
   ]
  },
  {
   "cell_type": "code",
   "execution_count": 69,
   "metadata": {},
   "outputs": [],
   "source": [
    "h = 0 # Initialization of the pivot row \n",
    "k = 0 # Initialization of the pivot column \n",
    "\n",
    "def GJ_elimination(A):\n",
    "    while h <= nrows and k <=ncols:\n",
    "        for k in range(ncols):\n",
    "            # return the row position of absolute maximum element in colum\n",
    "            i_max = np.argmax(np.absolute(A[:,k]))\n",
    "            # if maximum absolute value is 0, then no pivot in this column\n",
    "            # go to the next on\n",
    "            if A[i_max][k] == 0:\n",
    "                k +=1\n",
    "            else:\n",
    "                h_prev = h\n",
    "                h = i_max\n",
    "                i_max = h_prev\n",
    "                for i in range(h+1, nrows):\n",
    "                    # do for all rows below the pivot\n",
    "                    f = A[i][k] / A[h][k]\n",
    "                    # fill with zeros the lower part of pivot column\n",
    "                    A[i][k] = 0\n",
    "                    # then do for all remaining elements in current row\n",
    "                    for j in range(k+1, nclos):\n",
    "                        A[i][j] = A[i][j] - A[h][j] * f\n",
    "                        # increase pivot row and column\n",
    "                h +=1\n",
    "                k +=1\n",
    "    return(A)\n",
    "        \n"
   ]
  },
  {
   "cell_type": "code",
   "execution_count": null,
   "metadata": {},
   "outputs": [],
   "source": []
  },
  {
   "cell_type": "code",
   "execution_count": null,
   "metadata": {},
   "outputs": [],
   "source": []
  }
 ],
 "metadata": {
  "kernelspec": {
   "display_name": "Python 3",
   "language": "python",
   "name": "python3"
  },
  "language_info": {
   "codemirror_mode": {
    "name": "ipython",
    "version": 3
   },
   "file_extension": ".py",
   "mimetype": "text/x-python",
   "name": "python",
   "nbconvert_exporter": "python",
   "pygments_lexer": "ipython3",
   "version": "3.6.8"
  }
 },
 "nbformat": 4,
 "nbformat_minor": 2
}
